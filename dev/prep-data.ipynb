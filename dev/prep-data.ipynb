{
 "cells": [
  {
   "cell_type": "markdown",
   "metadata": {},
   "source": [
    "# Import mini_wiki and bioasq datasets from huggingface rag datasets"
   ]
  },
  {
   "cell_type": "code",
   "execution_count": 12,
   "metadata": {},
   "outputs": [],
   "source": [
    "from datasets import load_dataset\n",
    "\n",
    "# Mini Wiki Dataset: pick one among the available configs: ['text-corpus', 'question-answer']\n",
    "mini_wiki_qa = load_dataset(\"rag-datasets/mini_wikipedia\", \"question-answer\")\n",
    "mini_wiki_corpus = load_dataset(\"rag-datasets/mini_wikipedia\", \"text-corpus\")\n",
    "\n"
   ]
  },
  {
   "cell_type": "code",
   "execution_count": 14,
   "metadata": {},
   "outputs": [
    {
     "data": {
      "application/vnd.jupyter.widget-view+json": {
       "model_id": "b1db1e6656a744409587ba8eae5da442",
       "version_major": 2,
       "version_minor": 0
      },
      "text/plain": [
       "Downloading data:   0%|          | 0.00/1.29M [00:00<?, ?B/s]"
      ]
     },
     "metadata": {},
     "output_type": "display_data"
    },
    {
     "data": {
      "application/vnd.jupyter.widget-view+json": {
       "model_id": "53f51a35f2ef4e7b9f4713a53999f99e",
       "version_major": 2,
       "version_minor": 0
      },
      "text/plain": [
       "Generating test split:   0%|          | 0/4719 [00:00<?, ? examples/s]"
      ]
     },
     "metadata": {},
     "output_type": "display_data"
    },
    {
     "data": {
      "application/vnd.jupyter.widget-view+json": {
       "model_id": "808ac35ca0434b79a44e7f734679cd31",
       "version_major": 2,
       "version_minor": 0
      },
      "text/plain": [
       "Downloading data:   0%|          | 0.00/24.5M [00:00<?, ?B/s]"
      ]
     },
     "metadata": {},
     "output_type": "display_data"
    },
    {
     "data": {
      "application/vnd.jupyter.widget-view+json": {
       "model_id": "ee0e2a516b9647558a896953c59ba2d7",
       "version_major": 2,
       "version_minor": 0
      },
      "text/plain": [
       "Generating passages split:   0%|          | 0/40221 [00:00<?, ? examples/s]"
      ]
     },
     "metadata": {},
     "output_type": "display_data"
    }
   ],
   "source": [
    "# Mini Bios Dataset: pick one among the available configs: ['text-corpus', 'question-answer-passages']\n",
    "mini_bioasq_qa = load_dataset(\"rag-datasets/mini-bioasq\",\"question-answer-passages\")\n",
    "mini_bioasq_corpus = load_dataset(\"rag-datasets/mini-bioasq\", \"text-corpus\")"
   ]
  },
  {
   "cell_type": "markdown",
   "metadata": {},
   "source": [
    "## Analyse the mini_wiki dataset"
   ]
  },
  {
   "cell_type": "code",
   "execution_count": null,
   "metadata": {},
   "outputs": [
    {
     "name": "stdout",
     "output_type": "stream",
     "text": [
      "{'question': ['Was Abraham Lincoln the sixteenth President of the United States?'], 'answer': ['yes'], 'id': [0]}\n",
      "['question', 'answer', 'id']\n",
      " Total number of examples in qa dataset: 918\n"
     ]
    }
   ],
   "source": [
    "# Inspect qa dataset, onlz \"test\" split is available, Note: The question id's don't cover all integers from 0 to len(dataset)\n",
    "print(mini_wiki_qa[\"test\"][0:1])\n",
    "print(mini_wiki_qa[\"test\"].column_names)\n",
    "print(f\" Total number of examples in qa dataset: {len(mini_wiki_qa['test'])}\")"
   ]
  },
  {
   "cell_type": "code",
   "execution_count": 23,
   "metadata": {},
   "outputs": [
    {
     "name": "stdout",
     "output_type": "stream",
     "text": [
      "{'passage': ['Uruguay (official full name in  ; pron.  , Eastern Republic of  Uruguay) is a country located in the southeastern part of South America.  It is home to 3.3 million people, of which 1.7 million live in the capital Montevideo and its metropolitan area.', 'It is bordered by Brazil to the north, by Argentina across the bank of both the Uruguay River to the west and the estuary of RÃ\\xado de la Plata to the southwest, and the South Atlantic Ocean to the southeast. It is the second smallest independent country in South America, larger only than Suriname and the French overseas department of French Guiana.', 'Montevideo was founded by the Spanish in the early 18th century as a military stronghold. Uruguay won its independence in 1828 following a three-way struggle between Spain, Argentina and Brazil. It is a constitutional democracy, where the president fulfills the roles of both head of state and head of government', 'The economy is largely based in agriculture (making up 10% of the GDP and the most substantial export) and the state-sector, and relies heavily on world trade. Consequently, it is badly affected by any downturn in global prices. However, the economy is on the whole more stable than surrounding states, and it maintains a solid reputation with investors.', 'According to Transparency International, Uruguay is the second least corrupt country in Latin America (after Chile),  Transparency.org.  with its political and labor conditions being among the freest on the continent.', 'In November 2007 it became the first Latin American country and the second in the American Continent to recognize same-sex civil unions at the national level.   Uruguay Passes Civil-Union Law at  San Francisco Bay Times (December 6, 2007)', '88% of the population are of European descent. Just under two-thirds of the population are declared Roman Catholics. However, the majority of Uruguayans are only nominally religious.  CIA World Factbook -- Uruguay', 'The name \"Uruguay\" comes from GuaranÃ\\xad. It has many possible meanings. Some of the proposed meanings are:'], 'id': [0, 1, 2, 3, 4, 5, 6, 7]}\n",
      " Total number of passages: 3200\n",
      "['Uruguay (official full name in  ; pron.  , Eastern Republic of  Uruguay) is a country located in the southeastern part of South America.  It is home to 3.3 million people, of which 1.7 million live in the capital Montevideo and its metropolitan area.', 'It is bordered by Brazil to the north, by Argentina across the bank of both the Uruguay River to the west and the estuary of RÃ\\xado de la Plata to the southwest, and the South Atlantic Ocean to the southeast. It is the second smallest independent country in South America, larger only than Suriname and the French overseas department of French Guiana.', 'Montevideo was founded by the Spanish in the early 18th century as a military stronghold. Uruguay won its independence in 1828 following a three-way struggle between Spain, Argentina and Brazil. It is a constitutional democracy, where the president fulfills the roles of both head of state and head of government', 'The economy is largely based in agriculture (making up 10% of the GDP and the most substantial export) and the state-sector, and relies heavily on world trade. Consequently, it is badly affected by any downturn in global prices. However, the economy is on the whole more stable than surrounding states, and it maintains a solid reputation with investors.', 'According to Transparency International, Uruguay is the second least corrupt country in Latin America (after Chile),  Transparency.org.  with its political and labor conditions being among the freest on the continent.']\n"
     ]
    }
   ],
   "source": [
    "# Inspect corpus dataset only \"passages\" split is available\n",
    "print(mini_wiki_corpus[\"passages\"][0:8])\n",
    "print(f\" Total number of passages: {len(mini_wiki_corpus['passages'])}\")\n",
    "\n",
    "passages = mini_wiki_corpus[\"passages\"][0:5]\n",
    "print(passages[\"passage\"])"
   ]
  },
  {
   "cell_type": "markdown",
   "metadata": {},
   "source": [
    "## Analyse the mini_bioasq dataset"
   ]
  },
  {
   "cell_type": "code",
   "execution_count": 17,
   "metadata": {},
   "outputs": [
    {
     "name": "stdout",
     "output_type": "stream",
     "text": [
      "{'question': ['Is Hirschsprung disease a mendelian or a multifactorial disorder?'], 'answer': [\"Coding sequence mutations in RET, GDNF, EDNRB, EDN3, and SOX10 are involved in the development of Hirschsprung disease. The majority of these genes was shown to be related to Mendelian syndromic forms of Hirschsprung's disease, whereas the non-Mendelian inheritance of sporadic non-syndromic Hirschsprung disease proved to be complex; involvement of multiple loci was demonstrated in a multiplicative model.\"], 'relevant_passage_ids': ['[20598273, 6650562, 15829955, 15617541, 23001136, 8896569, 21995290, 12239580, 15858239]'], 'id': [0]}\n",
      "['question', 'answer', 'relevant_passage_ids', 'id']\n",
      " Total number of examples in qa dataset: 4719\n"
     ]
    }
   ],
   "source": [
    "# Inspect qa dataset, onlz \"test\" split is available, Note: The question id's don't cover all integers from 0 to len(dataset)\n",
    "print(mini_bioasq_qa[\"test\"][0:3])\n",
    "print(mini_bioasq_qa[\"test\"].column_names)\n",
    "print(f\" Total number of examples in qa dataset: {len(mini_bioasq_qa['test'])}\")"
   ]
  },
  {
   "cell_type": "code",
   "execution_count": 18,
   "metadata": {},
   "outputs": [
    {
     "name": "stdout",
     "output_type": "stream",
     "text": [
      "{'passage': ['New data on viruses isolated from patients with subacute thyroiditis de Quervain \\nare reported. Characteristic morphological, cytological, some physico-chemical \\nand biological features of the isolated viruses are described. A possible role \\nof these viruses in human and animal health disorders is discussed. The isolated \\nviruses remain unclassified so far.', \"We describe an improved method for detecting deficiency of the acid hydrolase, \\nalpha-1,4-glucosidase in leukocytes, the enzyme defect in glycogen storage \\ndisease Type II (Pompe disease). The procedure requires smaller volumes of blood \\nand less time than previous methods. The assay involves the separation of \\nleukocytes by Peter's method for beta-glucosidase and a modification of Salafsky \\nand Nadler's fluorometric method for alpha-glucosidase.\", 'We have studied the effects of curare on responses resulting from iontophoretic \\napplication of several putative neurotransmitters onto Aplysia neurons. These \\nneurons have specific receptors for acetylcholine (ACh), dopamine, octopamine, \\nphenylethanolamine, histamine, gamma-aminobutyric acid (GABA), aspartic acid, \\nand glutamic acid. Each of these substances may on different specific neurons \\nelicit at least three types of response, caused by a fast depolarizing Na+, a \\nfast hyperpolarizing Cl-, or a slow hyperpolarizing K+ conductance increase. All \\nresponses resulting from either Na+ or Cl- conductance increases, irrespective \\nof which putative transmitter activated the response, were sensitive to curare. \\nMost were totally blocked by less than or equal to 10-4 M curare. GABA responses \\nwere less sensitive and were often only depressed by 10-3 M curare. K+ \\nconductance responses, irrespective of the transmitter, were not curare \\nsensitive. These results are consistent with a model of receptor organization in \\nwhich one neurotransmitter receptor may be associated with any of at least three \\nionophores, mediating conductance increase responses to Na+, Cl-, and K+, \\nrespectively. In Aplysia nervous tissue, curare appears not to be a specific \\nantagonist for the nicotinic ACh receptor, but rather to be a specific blocking \\nagent for a class of receptor-activated Na+ and Cl- responses.', 'Kinetic and electrophoretic properties of 230--300 fold purified preparations of \\nglucose-6-phosphate dehydrogenase (G6PD) from red cells of donors and patients \\nwith acute drug hemolytic anemia due to G6PD deficiency were studied. A new \\nabnormal variant of G6PD isolated from red cell of a patient with acute drug \\nhemolytic anemia, which was not described in literature, has been discovered. \\nThe abnormal enzyme differs from the normal by decreased Michaelis constant for \\nglucose-6-phosphate and nicotinamide adenine dinucleotide phosphate (NADP), by \\nincreased utilization of analogues of substrates--2-deoxy-glucose-6-phosphate \\nand particularly deamino-NADP, by low thermal stability, by the character of \\npH-dependence, by the appearance of a single band of G6PD activity in \\npolyacrylamide gel electrophoresis.', 'Male Wistar specific-pathogen-free rats aged 2, 7, 17, 30, 60, 120, 200, 360 and \\n600 days, all killed in experiment on the same day, were examined. The body \\nweight significantly increased until the 200th day, the weight of adrenals until \\nthe 120th day and the adrenal protein content until the 30th day of life. The \\nadrenaline content of the adrenals increased continuously during the 600 days \\nstudied. Adrenal noradrenaline content increased rapidly over the first 17 days, \\nremained at a stable level until the 120th day, and rose to a higher level after \\n200 days. The activity of adrenal catecholamine-synthesizing enzymes also \\nincreased with age: tyrosine hydroxylase gradually increased until the 360th \\nday, dopamine-beta-hydroxylase and phenylethanolamine-N-methyl transferase until \\nthe 200th day. Our results demonstrate that, in the rat, during development \\nthere is a gradual increase of adrenal weight, adrenaline content, tyrosine \\nhydroxylase and phenylethanolamine-N-methyl transferase activity until \\nmaturation (120th day), whereas the adrenal noradrenaline content reaches the \\nadult values earlier, around the 17th day. During aging, adrenal catecholamines \\nsignificantly increase when compared to young-adult rats (120-day-old), probably \\ndue to the elevated activity of the adrenal catecholamine-synthesizing enzymes. \\nThe increased adrenal catecholamine levels in old animals might be connected \\nwith a higher incidence of cardiovascular diseases in aged.', 'Tyrosine hydroxylase (TH) and phenylethanolamine-N-methyltransferase (PNMT) \\nactivities were assayed in adrenal glands of the following groups of the Alaskan \\nred-backed vole (Clethrionomys rutilus dawsoni): 1) laboratory reared at 20 \\ndegrees C and 2) exposed to 5 degrees C for 1, 3, 7, and 28 days; 3) wild, \\nsummer acclimatized; 4) wild, fall acclimatized; and 5) wild, winter \\nacclimatized. TH activity in laboratory-acclimated voles exposed to 5 degrees C \\nwas increased by 2 times after 3 days and remained elevated after 28 days. PNMT \\nactivity in these same voles was increased after 7 days and also remained \\nelevated after 28 days of cold exposure. In wild-acclimatized voles TH activity \\nand PNMT activity in summer were equivalent to levels in 28-day cold-acclimated \\nlaboratory voles. In fall, TH activity was increased to 2.5 times the summer \\nvalue. It decreased by midwinter, but remained elevated above the summer level. \\nIn contrast, PNMT activity appeared unchanged from summer through fall and \\nwinter. Pregnant summer voles had markedly increased TH activity. Adrenal \\nnorepinephrine and epinephrine did not change significantly with cold \\nacclimation or seasonal acclimatization. Thus, acclimatization of wild voles to \\nfall and winter conditions involved aquisition of a greater capacity to \\nsynthesize adrenal catecholamines than that produced by exposing \\nlaboratory-reared voles to an extended period of cold.', 'Hemolytic anemia is a well-recognized complication of sulfasalazine treatment. \\n17 of 40 (43%) patients with inflammatory bowel disease receiving sulfasalazine \\nhad evidence of hemolysis as detected by starch gel electrophoresis. Only 47% \\n(8) of patients with hemolysis had Heinz body formation. The hemoglobin was \\nsignificantly reduced in patients with hemolysis and 53% had a reticulocyte \\ncount of greater than 5%. A significant correlation was noted between hemolysis \\nand serum sulfapyridine level, but no correlation was seen with serum \\nsulfasalazine level. There was no significant difference in disease extent or \\nactivity in patients with hemolysis compared to those without hemolysis. \\nHemolysis is not a rare side-effect of sulfasalazine therapy. Heinz body \\nformation is not invariably found in sulfasalazine-induced hemolysis.', '(1) The RNA replicase induced by bacteriophage Qbeta consists of four \\nnon-identical subunits designated as alpha (mol. wt. 74000), beta (mol. wt. \\n64000), gamma (mol. wt. 47000) and delta (mol. wt. 33000), only one (subunit \\nbeta) of which is specified by the phage genome. (2) Subunit alpha (30 S \\nribosomal protein \"S1\" as well as translational interference factor \"i\") is \\nrequired only for (+) strand-directed RNA synthesis in the presence of the host \\nfactor. (3) Qbeta replicase lacking subunit alpha (R-alpha) is capable of \\nreplicating templates other than (+) strand, such as (--), \"6S\" RNA, poly(C) \\netc., in the absence of the host factor. (4) Subunit beta is suggested to be the \\nnucleotide-polymerizing enzyme, but is unable to initiate RNA synthesis by \\nitself. (5) Subunits gamma and delta are identical to the protein synthesis \\nelongation factors, EF-Tu and EF-Ts, respectively, and are required only for \\ninitiation of RNA synthesis, but not for elongation. (6) A model of Qbeta \\nreplicase is presented in order to discuss observed template-enzyme \\ninteractions.'], 'id': [9797, 11906, 16083, 23188, 23469, 24032, 30666, 58611]}\n",
      " Total number of passages: 40221\n"
     ]
    }
   ],
   "source": [
    "# Inspect corpus dataset only \"passages\" split is available\n",
    "print(mini_bioasq_corpus[\"passages\"][0:3])\n",
    "print(f\" Total number of passages: {len(mini_bioasq_corpus['passages'])}\")"
   ]
  }
 ],
 "metadata": {
  "kernelspec": {
   "display_name": "Python 3",
   "language": "python",
   "name": "python3"
  },
  "language_info": {
   "codemirror_mode": {
    "name": "ipython",
    "version": 3
   },
   "file_extension": ".py",
   "mimetype": "text/x-python",
   "name": "python",
   "nbconvert_exporter": "python",
   "pygments_lexer": "ipython3",
   "version": "3.10.12"
  }
 },
 "nbformat": 4,
 "nbformat_minor": 2
}
