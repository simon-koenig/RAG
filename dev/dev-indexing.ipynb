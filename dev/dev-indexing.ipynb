{
 "cells": [
  {
   "cell_type": "markdown",
   "metadata": {},
   "source": [
    "Notebook to develope large document corpus vector index"
   ]
  },
  {
   "cell_type": "code",
   "execution_count": null,
   "metadata": {},
   "outputs": [],
   "source": [
    "from datasets import load_dataset\n",
    "from pprint import pprint\n",
    "# Load the KILT Wikipedia dataset\n",
    "dataset = load_dataset('kilt_wikipedia')\n",
    "\n",
    "# Display a sample of the dataset\n",
    "print(dataset)"
   ]
  },
  {
   "cell_type": "code",
   "execution_count": null,
   "metadata": {},
   "outputs": [],
   "source": [
    "# Keep only 'text' and 'id' columns\n",
    "print(dataset.column_names)\n",
    "dataset = dataset[\"full\"]\n",
    "filtered_dataset = dataset.remove_columns([col for col in dataset.column_names if col not in ['text', 'kilt_id']])\n",
    "\n",
    "# Show the structure after filtering\n",
    "print(filtered_dataset[0])\n",
    "print(len(filtered_dataset))"
   ]
  },
  {
   "cell_type": "code",
   "execution_count": null,
   "metadata": {},
   "outputs": [],
   "source": [
    "slice_for_dev=100\n",
    "kilt_list = []\n",
    "for ID, Text in zip(filtered_dataset[:slice_for_dev]['kilt_id'], filtered_dataset[:slice_for_dev]['text']):\n",
    "    # print(f'ID: {ID}')\n",
    "    paragraphs = [elem.strip() for elem in Text[\"paragraph\"]]\n",
    "    raw_text = ' '.join(paragraphs)\n",
    "    raw_text = raw_text.replace('\\n', ' ')\n",
    "    raw_text = raw_text.replace('BULLET::::', 'Bullet:')\n",
    "    raw_text = raw_text.replace('SECTION::::', 'Section:')\n",
    "    # print(f'Text: {raw_text}')\n",
    "\n",
    "    print('---')\n",
    "    kilt_list.append({'text': raw_text, 'id': ID})\n",
    "kilt_list"
   ]
  },
  {
   "cell_type": "code",
   "execution_count": null,
   "metadata": {},
   "outputs": [],
   "source": [
    "# Make new marqo index and add the new data\n",
    "\n",
    "\n",
    "import sys\n",
    "import time\n",
    "from pprint import pprint\n",
    "\n",
    "sys.path.append(\"../dev/\")\n",
    "sys.path.append(\"../src/\")\n",
    "from dataset_helpers import DatasetHelpers\n",
    "from vector_store import VectorStore\n",
    "\n",
    "# Define API ENDPOINTS\n",
    "LLM_URL = \"http://10.103.251.104:8040/v1\"\n",
    "LLM_NAME = \"llama3\"\n",
    "MARQO_URL = \"http://10.103.251.104:8882\"\n",
    "MARQO_URL_GPU = \"http://10.103.251.104:8880\"\n",
    "\n",
    "##\n",
    "## Load Dataset\n",
    "##\n",
    "\n",
    "corpus_list = kilt_list  # List of documents to index\n",
    "##\n",
    "## Load the VectorStore\n",
    "##\n",
    "documentDB_GPU = VectorStore(MARQO_URL_GPU)  # Connect to marqo client via python API\n",
    "print(documentDB_GPU.getIndexes())  # Print all indexes\n",
    "\n",
    "\n",
    "##\n",
    "## Delete old index\n",
    "##\n",
    "\n",
    "# documentDB_GPU.deleteIndex(\"KILT-test\")  # Delete the index\n",
    "\n",
    "\n",
    "##\n",
    "## Create new index\n",
    "##\n",
    "\n",
    "index_settings = {\n",
    "    \"split_length\": 0,  # Number of elmenents in a split\n",
    "    \"split_method\": \"sentence\",  # Method of splitting\n",
    "    \"split_overlap\": 0,  # Number of overlapping tokens in a split\n",
    "    \"distance_metric\": \"prenormalized-angular\",  # Distance metric for ann\n",
    "    \"model\": \"flax-sentence-embeddings/all_datasets_v4_mpnet-base\",  # Model for vector embedding\n",
    "}\n",
    "\n",
    "documentDB_GPU.createIndex(\"KILT-test\", index_settings)  # Create a new index\n",
    "\n",
    "\n",
    "##\n",
    "## Index documents\n",
    "##\n",
    "\n",
    "\n",
    "maxDocs = 100000  # Number of documents to index\n",
    "documentDB_GPU.connectIndex(\"KILT-test\")  # Connect to the minibio\n",
    "start = time.time()\n",
    "documentDB_GPU.indexDocuments(corpus_list, maxDocs)  # Add documents to the index\n",
    "end = time.time()\n",
    "## Time for indexing 100 documents on marqo with cpu\n",
    "print(f\"Time for indexing {maxDocs} documents: {end - start} seconds\")\n",
    "\n",
    "\n",
    "print(documentDB_GPU.getIndexStats())  # Print index stats"
   ]
  },
  {
   "cell_type": "code",
   "execution_count": 4,
   "metadata": {},
   "outputs": [
    {
     "name": "stderr",
     "output_type": "stream",
     "text": [
      "/home/simon/master_project/software/venv_koenigsi/lib/python3.10/site-packages/huggingface_hub/file_download.py:1132: FutureWarning: `resume_download` is deprecated and will be removed in version 1.0.0. Downloads always resume when possible. If you want to force a new download, use `force_download=True`.\n",
      "  warnings.warn(\n"
     ]
    },
    {
     "name": "stdout",
     "output_type": "stream",
     "text": [
      "(768,)\n"
     ]
    }
   ],
   "source": [
    "from sentence_transformers import SentenceTransformer\n",
    "\n",
    "model = SentenceTransformer('flax-sentence-embeddings/all_datasets_v4_mpnet-base')\n",
    "text = \"Replace me by any text you'd like.\"\n",
    "text_embbedding = model.encode(text)\n",
    "print(text_embbedding.shape)"
   ]
  }
 ],
 "metadata": {
  "kernelspec": {
   "display_name": "venv_koenigsi",
   "language": "python",
   "name": "python3"
  },
  "language_info": {
   "codemirror_mode": {
    "name": "ipython",
    "version": 3
   },
   "file_extension": ".py",
   "mimetype": "text/x-python",
   "name": "python",
   "nbconvert_exporter": "python",
   "pygments_lexer": "ipython3",
   "version": "3.10.12"
  }
 },
 "nbformat": 4,
 "nbformat_minor": 2
}
