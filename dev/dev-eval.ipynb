{
 "cells": [
  {
   "cell_type": "markdown",
   "metadata": {},
   "source": [
    "# Notebook to develop rag evaluation methods"
   ]
  },
  {
   "cell_type": "code",
   "execution_count": 1,
   "metadata": {},
   "outputs": [],
   "source": [
    "# Define API ENDPOINTS \n",
    "LLM_URL=\"http://10.103.251.104:8040/v1\"\n",
    "LLM_NAME=\"llama3\"\n",
    "MARQO_URL=\"http://10.103.251.104:8882\"\n",
    "# Old Marqo endpoint; version 1.5\n",
    "# MARQO_URL=\"http://10.103.251.100:8882\"\n"
   ]
  },
  {
   "cell_type": "code",
   "execution_count": 2,
   "metadata": {},
   "outputs": [],
   "source": [
    "# Imports\n",
    "import marqo\n",
    "import re\n",
    "import os\n",
    "from langchain.text_splitter import (\n",
    "    CharacterTextSplitter,  # need to install langchain\n",
    "    NLTKTextSplitter,\n",
    "    RecursiveCharacterTextSplitter,\n",
    ")\n",
    "from datasets import load_dataset\n",
    "import pprint\n",
    "import time\n",
    "import random\n",
    "import requests\n",
    "from components import VectorStore, RagPipe"
   ]
  },
  {
   "cell_type": "code",
   "execution_count": 3,
   "metadata": {},
   "outputs": [
    {
     "name": "stdout",
     "output_type": "stream",
     "text": [
      "{'question': 'What is the capital of France?', 'answer': 'Paris', 'contexts': ['Paris is the capital of France and a major European city.', 'Paris is located on the River Seine in northern France.', 'Marseille is known for its art, culture, and landmarks.'], 'context_ids': ['1', '2', '3'], 'ground_truth': 'The capital of France is Paris.'}\n"
     ]
    }
   ],
   "source": [
    "# Evaluation for a single rag element\n",
    "example_entry = {\n",
    "    \"question\": \"What is the capital of France?\",\n",
    "    \"answer\": \"Paris\",\n",
    "    \"contexts\": [\n",
    "        \"Paris is the capital of France and a major European city.\",\n",
    "        \"Paris is located on the River Seine in northern France.\",\n",
    "        \"Marseille is known for its art, culture, and landmarks.\"\n",
    "    ],\n",
    "    \"context_ids\": [\"1\", \"2\", \"3\"],\n",
    "    \"ground_truth\": \"The capital of France is Paris.\"\n",
    "}\n",
    "\n",
    "print(example_entry)\n",
    "\n",
    "\n",
    "\n"
   ]
  },
  {
   "cell_type": "code",
   "execution_count": 5,
   "metadata": {},
   "outputs": [
    {
     "name": "stdout",
     "output_type": "stream",
     "text": [
      "[{'indexName': 'miniwikiindex'}, {'indexName': 'ait-qm'}]\n",
      "Index connected: miniwikiindex \n",
      " Language model URL: http://10.103.251.104:8040/v1\n",
      " Language model connected: llama3\n",
      "Answer: Paris\n",
      "Query: Paris\n",
      "\n",
      " Similarity Score = tensor([[1.0000]]) \n"
     ]
    },
    {
     "data": {
      "text/plain": [
       "[tensor([[1.0000]])]"
      ]
     },
     "execution_count": 5,
     "metadata": {},
     "output_type": "execute_result"
    }
   ],
   "source": [
    "# Evaluate context relevancen for a single element\n",
    "\n",
    "## \n",
    "## 1. Connect to Vector database\n",
    "## \n",
    "\n",
    "documentDB = VectorStore(MARQO_URL) # Connect to marqo client via python API\n",
    "print(documentDB.getIndexes()) # Print all indexes\n",
    "documentDB.connectIndex(\"miniwikiindex\") # Connect to index with name miniWikiIndex\n",
    "\n",
    "##\n",
    "## Create pipeline object \n",
    "## \n",
    "\n",
    "pipe = RagPipe()\n",
    "pipe.connectVectorStore(documentDB)\n",
    "pipe.connectLLM(LLM_URL, LLM_NAME)\n",
    "\n",
    "question = example_entry[\"question\"]\n",
    "contexts = example_entry[\"contexts\"]\n",
    "contexts_ids = example_entry[\"context_ids\"]\n",
    "answer = example_entry[\"answer\"]\n",
    "ground_truth = example_entry[\"ground_truth\"]\n",
    "\n",
    "##\n",
    "## Evaluate example context relevance. Possible to evaluate multiple questions-contexts at once\n",
    "##\n",
    "\n",
    "# pipe.evaluate_context_relevance([question], [contexts,contexts], [contexts_ids,contexts_ids])\n",
    "\n",
    "\n",
    "## \n",
    "## Evaluate faithfulness. I.e. If answer is faithful to the context\n",
    "##\n",
    "\n",
    "# pipe.evaluate_faithfulness([\"Marseille is a nice city\", \"Paris is in the north of France\"], [contexts, contexts])\n",
    "\n",
    "## \n",
    "## Evaluate answer relevance. I.e. If answer is relevant to the question\n",
    "##\n",
    " \n",
    "# pipe.evaluate_answer_relevance([question], [\"Berlin is the capital of France\"])\n",
    "\n",
    "\n",
    "##\n",
    "## Evaluate answer correctness. I.e. If answer is correct compared to ground truth\n",
    "##\n",
    "\n",
    "pipe.evaluate_correctness([answer], [ground_truth]) \n",
    "# Need more than just sentence transformer comparison\n",
    "# Either also an LLM judge or use ROUGE or BLEU score in addtion to semantic sentence. \n",
    "# E'g' \"Paris is the capital of France\" and \"Paris\" should be considered a perfect match \n",
    "# but semantic sentence similarity is just 0.56 or so.\n",
    "\n",
    "\n",
    "\n",
    "\n"
   ]
  }
 ],
 "metadata": {
  "kernelspec": {
   "display_name": "venv_koenigsi",
   "language": "python",
   "name": "python3"
  },
  "language_info": {
   "codemirror_mode": {
    "name": "ipython",
    "version": 3
   },
   "file_extension": ".py",
   "mimetype": "text/x-python",
   "name": "python",
   "nbconvert_exporter": "python",
   "pygments_lexer": "ipython3",
   "version": "3.10.12"
  }
 },
 "nbformat": 4,
 "nbformat_minor": 2
}
