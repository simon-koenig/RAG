{
 "cells": [
  {
   "cell_type": "markdown",
   "metadata": {},
   "source": [
    "# Notebook to develop rag evaluation methods"
   ]
  },
  {
   "cell_type": "code",
   "execution_count": 1,
   "metadata": {},
   "outputs": [],
   "source": [
    "# Define API ENDPOINTS \n",
    "LLM_URL=\"http://10.103.251.104:8040/v1\"\n",
    "LLM_NAME=\"mixtral\"\n",
    "MARQO_URL=\"http://10.103.251.104:8882\"\n",
    "# Old Marqo endpoint; version 1.5\n",
    "# MARQO_URL=\"http://10.103.251.100:8882\"\n"
   ]
  },
  {
   "cell_type": "code",
   "execution_count": 2,
   "metadata": {},
   "outputs": [],
   "source": [
    "# Imports\n",
    "import marqo\n",
    "import re\n",
    "import os\n",
    "from langchain.text_splitter import (\n",
    "    CharacterTextSplitter,  # need to install langchain\n",
    "    NLTKTextSplitter,\n",
    "    RecursiveCharacterTextSplitter,\n",
    ")\n",
    "from datasets import load_dataset\n",
    "import pprint\n",
    "import time\n",
    "import random\n",
    "import requests\n",
    "from components import VectorStore, RagPipe\n"
   ]
  },
  {
   "cell_type": "markdown",
   "metadata": {},
   "source": [
    "### Create or Connect to Vector Store"
   ]
  },
  {
   "cell_type": "code",
   "execution_count": 3,
   "metadata": {},
   "outputs": [
    {
     "name": "stdout",
     "output_type": "stream",
     "text": [
      "[{'indexName': 'miniwikiindex'}, {'indexName': 'ait-qm'}]\n",
      "Index connected: miniwikiindex \n"
     ]
    }
   ],
   "source": [
    "# Set Index Settings, docs: https://docs.marqo.ai/2.5/API-Reference/Indexes/create_index/\n",
    "INDEX_NAME = \"mini_wiki_index\"\n",
    "index_params = {\n",
    "    \"split_method\": \"sentence\",\n",
    "    \"distance_metric\": \"prenormalized-angular\",\n",
    "    \"model\": \"hf/all_datasets_v4_MiniLM-L6\",\n",
    "    #\"model\" : 'flax-sentence-embeddings/all_datasets_v4_mpnet-base',\n",
    "}\n",
    "\n",
    "documentDB = VectorStore(MARQO_URL) # Connect to marqo client via python API\n",
    "#documentDB.createIndex(\"miniWikiIndex\", index_params) # Create index with name miniWikiIndex\n",
    "#print(documentDB.getIndexes()) # Print all indexes\n",
    "#documentDB.deleteIndex(\"mini_wiki_index\") # Delete index with name miniWikiIndex\n",
    "print(documentDB.getIndexes()) # Print all indexes\n",
    "documentDB.connectIndex(\"miniwikiindex\") # Connect to index with name miniWikiIndex"
   ]
  },
  {
   "cell_type": "markdown",
   "metadata": {},
   "source": [
    "### Prepare Dataset "
   ]
  },
  {
   "cell_type": "code",
   "execution_count": 4,
   "metadata": {},
   "outputs": [
    {
     "name": "stdout",
     "output_type": "stream",
     "text": [
      "{'text': 'Uruguay (official full name in  ; pron.  , Eastern Republic of  Uruguay) is a country located in the southeastern part of South America.  It is home to 3.3 million people, of which 1.7 million live in the capital Montevideo and its metropolitan area.', 'id': 0}\n"
     ]
    }
   ],
   "source": [
    "# Code to prepare dataset\n",
    "def prepare_mini_wiki(corpus, chunking_params):\n",
    "    # Upload a mini wiki corpus to the marqo instance\n",
    "    # The corpus is a dictionary with two keys. Passages and id. \n",
    "    # Passage is a list of strings \n",
    "    # Id is a list of ints.\n",
    "    # Open the PDF file\n",
    "\n",
    "    # Create a list of dictionaries with keys: passage, id\n",
    "    corpus_list = []\n",
    "    for passage, iD in zip(corpus[\"passage\"], corpus[\"id\"]):\n",
    "            corpus_list.append({\"text\": passage, \"id\": iD})\n",
    "    return corpus_list\n",
    "\n",
    "# Prepare the mini wiki corpus\n",
    "chunking_params = {\n",
    "    \"chunk_size\": 1024,\n",
    "    \"chunk_overlap\": 128,\n",
    "    \"chunk_method\": \"recursive\",\n",
    "}\n",
    "\n",
    "\n",
    "mini_wiki_corpus = load_dataset(\"rag-datasets/mini_wikipedia\", \"text-corpus\")\n",
    "passages = mini_wiki_corpus[\"passages\"]\n",
    "corpus_list = prepare_mini_wiki(passages, chunking_params)\n",
    "print(corpus_list[0])"
   ]
  },
  {
   "cell_type": "markdown",
   "metadata": {},
   "source": [
    "### Index Documents"
   ]
  },
  {
   "cell_type": "code",
   "execution_count": 10,
   "metadata": {},
   "outputs": [
    {
     "name": "stdout",
     "output_type": "stream",
     "text": [
      "Time taken to upload 100 passages: 6.9903342723846436 seconds\n",
      "{'numberOfDocuments': 100, 'numberOfVectors': 167, 'backend': {'memoryUsedPercentage': 0.08124080171, 'storageUsedPercentage': 30.892277273379996}}\n"
     ]
    }
   ],
   "source": [
    "# Code to Index data\n",
    "upload_start = time.time()\n",
    "maxDocs = 100\n",
    "documentDB.indexDocuments(documents=corpus_list, maxDocs=maxDocs)\n",
    "upload_end = time.time()\n",
    "print(f\"Time taken to upload {min(len(corpus_list), maxDocs)} passages: {upload_end - upload_start} seconds\")\n",
    "# Check if index contains data\n",
    "print(documentDB.getIndexStats())"
   ]
  },
  {
   "cell_type": "markdown",
   "metadata": {},
   "source": [
    "Great, now we have the documents indexed. Now retrieve passages based on a query. \n",
    "Indexing 3200 short passages takes ~ 4minutes "
   ]
  },
  {
   "cell_type": "markdown",
   "metadata": {},
   "source": [
    "### Get questions and answers from dataset"
   ]
  },
  {
   "cell_type": "code",
   "execution_count": 6,
   "metadata": {},
   "outputs": [
    {
     "name": "stdout",
     "output_type": "stream",
     "text": [
      "{'question': ['Was Abraham Lincoln the sixteenth President of the United States?', 'Did Lincoln sign the National Banking Act of 1863?', 'Did his mother die of pneumonia?', \"How many long was Lincoln's formal education?\", 'When did Lincoln begin his political career?'], 'answer': ['yes', 'yes', 'no', '18 months', '1832'], 'id': [0, 2, 4, 6, 8]}\n",
      "['Was Abraham Lincoln the sixteenth President of the United States?', 'Did Lincoln sign the National Banking Act of 1863?', 'Did his mother die of pneumonia?', \"How many long was Lincoln's formal education?\", 'When did Lincoln begin his political career?']\n",
      "['yes', 'yes', 'no', '18 months', '1832']\n"
     ]
    }
   ],
   "source": [
    "# Get question - answer - (passages) dataset\n",
    "mini_wiki_qa = load_dataset(\"rag-datasets/mini_wikipedia\", \"question-answer\")\n",
    "mini_wiki_qa = mini_wiki_qa[\"test\"][0:5] # Load the first 5 qestion-answer-id triples\n",
    "print(mini_wiki_qa)\n",
    "questions = mini_wiki_qa[\"question\"]\n",
    "answers = mini_wiki_qa[\"answer\"]\n",
    "print(questions)\n",
    "print(answers)"
   ]
  },
  {
   "cell_type": "markdown",
   "metadata": {},
   "source": [
    "### Create Pipeline and connect to vector store"
   ]
  },
  {
   "cell_type": "code",
   "execution_count": 11,
   "metadata": {},
   "outputs": [
    {
     "name": "stdout",
     "output_type": "stream",
     "text": [
      " Language model URL: http://10.103.251.104:8040/v1\n",
      " Language model connected: mixtral\n",
      "[\"Montevideo, Uruguay's capital.\",\n",
      " 'Map of Uruguay',\n",
      " \"Uruguay's capital, Montevideo, was founded by the Spanish in the early 18th \"\n",
      " 'century as a military stronghold; its natural harbor soon developed into a '\n",
      " \"commercial center competing with Argentina's capital, Buenos Aires. \"\n",
      " \"Uruguay's early 19th century history was shaped by ongoing conflicts between \"\n",
      " 'the British, Spanish, Portuguese, and colonial forces for dominance in the '\n",
      " 'Argentina-Brazil-Uruguay region.  /ref> In 1806 and 1807, the British army '\n",
      " 'attempted to seize Buenos Aires as part of their war with Spain. As a '\n",
      " 'result, at the beginning of 1807, Montevideo was occupied by a 10,000-strong '\n",
      " 'British force who held it until the middle of the year when they left to '\n",
      " 'attack Buenos Aires.']\n",
      "Sending query to OpenAI endpoint: http://10.103.251.104:8040/v1/chat/completions\n",
      "Received response...\n",
      "Response: \n",
      "\n",
      "' The capital of Uruguay is Montevideo.'\n"
     ]
    }
   ],
   "source": [
    "# Create pipeline object \n",
    "pipe = RagPipe()\n",
    "pipe.connectVectorStore(documentDB)\n",
    "pipe.connectLLM(LLM_URL, LLM_NAME)\n",
    "pipe.answerQuery(\"What is the capital of Uruguay?\")"
   ]
  },
  {
   "cell_type": "code",
   "execution_count": 12,
   "metadata": {},
   "outputs": [
    {
     "data": {
      "text/plain": [
       "{'type': 'unstructured',\n",
       " 'treatUrlsAndPointersAsImages': False,\n",
       " 'filterStringMaxLength': 20,\n",
       " 'model': 'hf/all_datasets_v4_MiniLM-L6',\n",
       " 'normalizeEmbeddings': True,\n",
       " 'textPreprocessing': {'splitLength': 2,\n",
       "  'splitOverlap': 0,\n",
       "  'splitMethod': 'sentence'},\n",
       " 'imagePreprocessing': {},\n",
       " 'vectorNumericType': 'float',\n",
       " 'annParameters': {'spaceType': 'prenormalized-angular',\n",
       "  'parameters': {'efConstruction': 512, 'm': 16}}}"
      ]
     },
     "execution_count": 12,
     "metadata": {},
     "output_type": "execute_result"
    }
   ],
   "source": [
    "# Test cell \n",
    "# Delete all docs in index\n",
    "documentDB.getIndexStats()\n",
    "#documentDB.emptyIndex()\n",
    "documentDB.getIndexSettings()"
   ]
  },
  {
   "cell_type": "code",
   "execution_count": 16,
   "metadata": {},
   "outputs": [
    {
     "name": "stdout",
     "output_type": "stream",
     "text": [
      "ID: 36\n",
      "Context: Montevideo, Uruguay's capital.\n",
      "ID: 28\n",
      "Context: Map of Uruguay\n",
      "ID: 15\n",
      "Context: Uruguay's capital, Montevideo, was founded by the Spanish in the early 18th century as a military stronghold; its natural harbor soon developed into a commercial center competing with Argentina's capital, Buenos Aires. Uruguay's early 19th century history was shaped by ongoing conflicts between the British, Spanish, Portuguese, and colonial forces for dominance in the Argentina-Brazil-Uruguay region.  /ref> In 1806 and 1807, the British army attempted to seize Buenos Aires as part of their war with Spain. As a result, at the beginning of 1807, Montevideo was occupied by a 10,000-strong British force who held it until the middle of the year when they left to attack Buenos Aires.\n",
      "ID: 80\n",
      "Context: Michael Faraday was born in Newington Butts, near present-day South London, England. His family was not well off. His father, James, was a member of the Sandemanian sect of Christianity. James Faraday had come to London ca 1790 from Outhgill in Westmorland, where he had been the village blacksmith. The young Michael Faraday, one of four children, having only the most basic of school educations, had to largely educate himself. \"Michael Faraday.\"  History of Science and Technology. Houghton Mifflin Company, 2004. Answers.com 4 June 2007.  /ref> At fourteen he became apprenticed to a local bookbinder and bookseller George Riebau and, during his seven-year apprenticeship, he read many books, including Isaac Watts' The Improvement of the Mind, and he enthusiastically implemented the principles and suggestions contained therein. He developed an interest in science and specifically in electricity. In particular, he was inspired by the book Conversations in Chemistry by Jane Marcet.\n",
      "ID: 2\n",
      "Context: Montevideo was founded by the Spanish in the early 18th century as a military stronghold. Uruguay won its independence in 1828 following a three-way struggle between Spain, Argentina and Brazil. It is a constitutional democracy, where the president fulfills the roles of both head of state and head of government\n",
      "ID: 71\n",
      "Context: ;Political and economic rankings\n"
     ]
    },
    {
     "data": {
      "text/plain": [
       "{'What is the capital of Uruguay?': [36, 28, 15],\n",
       " 'Where is Washington?': [80, 2, 71]}"
      ]
     },
     "execution_count": 16,
     "metadata": {},
     "output_type": "execute_result"
    }
   ],
   "source": [
    "# 1. Analyse Search Results - CONTEXT RELEVANCE\n",
    "def evaluate_context_relevance(queries, dataBase , k, goldPassages=None, ):\n",
    "    # Get retrieved text.\n",
    "    # Get retrieved text.\n",
    "    scores = {}\n",
    "    for query in queries:\n",
    "        response = dataBase.retrieveDocuments(query=query, k=k)\n",
    "        contexts = [response[\"hits\"][i][\"text\"] for i in range(len(response[\"hits\"]))]\n",
    "        ids = [response[\"hits\"][i][\"id\"] for i in range(len(response[\"hits\"]))]\n",
    "        measurements = []\n",
    "        for id, context in zip(ids,contexts):\n",
    "            # Insert here evaluation measure of retrieved context\n",
    "            print(f\"ID: {id}\")\n",
    "            print(f\"Context: {context}\")\n",
    "            measure = id # Insert evaluation measure here\n",
    "            measurements.append(measure)\n",
    "        \n",
    "        scores[query] = measurements # Insert evaluation measure here\n",
    "\n",
    "    return scores\n",
    "\n",
    "\n",
    "queries = [\"What is the capital of Uruguay?\", \"Where is Washington?\"] # Query\n",
    "evaluate_context_relevance(queries, documentDB, 3)"
   ]
  },
  {
   "cell_type": "code",
   "execution_count": 38,
   "metadata": {},
   "outputs": [
    {
     "name": "stdout",
     "output_type": "stream",
     "text": [
      "Sending query to OpenAI endpoint: http://10.103.251.104:8040/v1/chat/completions\n",
      "Received response...\n",
      "Response: \n",
      "\n",
      "' 10'\n"
     ]
    }
   ],
   "source": [
    "# Test llm judge on rating the relevance of a context\n",
    "context = (\"Uruguay's capital, Montevideo, was founded by the Spanish in the early 18th century \"\n",
    "\"as a military stronghold; its natural \"\n",
    "\"harbor soon developed into a commercial center competing with Argentina's capital, Buenos Aires.\")\n",
    "context1 = \"Map of Uruguay\"\n",
    "query = \"What is the capital of Uruguay?\"\n",
    "\n",
    "\n",
    "messages = [\n",
    "            {\"role\": \"user\", \"content\": \"Give a rating of relevancy of this text: \"\n",
    "            f\"{context} to the follwoing query: {query}.\"\n",
    "            \" Give a rating between 1 and 10. With 1 being completetly irrelevant\"\n",
    "            \" and 10 meaning extremely relevant. Respond with a single integer and nothing else!\" }\n",
    "        ]\n",
    "\n",
    "headers = {\n",
    "    \"Content-Type\": \"application/json\",\n",
    "    \"Authorization\": f\"Bearer N/A \",\n",
    "}\n",
    "\n",
    "data = {\n",
    "    \"model\": LLM_NAME,\n",
    "    \"messages\": messages,\n",
    "    \"temperature\": 0,\n",
    "    \"max_tokens\": 3,\n",
    "    # \"presence_penalty\": presence_pen,\n",
    "    # \"repeat_penalty\": repeat_pen,\n",
    "}\n",
    "endpoint = LLM_URL + \"/chat/completions\"\n",
    "print(\"Sending query to OpenAI endpoint: \" + endpoint)\n",
    "report = requests.post(endpoint, headers=headers, json=data).json()\n",
    "print(\"Received response...\")\n",
    "if \"choices\" in report:\n",
    "    if len(report[\"choices\"]) > 0:  # Always take the first choice.\n",
    "        result = report[\"choices\"][0][\"message\"][\"content\"]\n",
    "    else:\n",
    "        result = \"No result generated!\"\n",
    "else:\n",
    "    result = report\n",
    "print(\"Response: \\n\")\n",
    "pprint.pprint(result)"
   ]
  }
 ],
 "metadata": {
  "kernelspec": {
   "display_name": "venv_koenigsi",
   "language": "python",
   "name": "python3"
  },
  "language_info": {
   "codemirror_mode": {
    "name": "ipython",
    "version": 3
   },
   "file_extension": ".py",
   "mimetype": "text/x-python",
   "name": "python",
   "nbconvert_exporter": "python",
   "pygments_lexer": "ipython3",
   "version": "3.10.12"
  }
 },
 "nbformat": 4,
 "nbformat_minor": 2
}
